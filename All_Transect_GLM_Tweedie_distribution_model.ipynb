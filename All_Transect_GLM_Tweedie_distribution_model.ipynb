{
  "nbformat": 4,
  "nbformat_minor": 0,
  "metadata": {
    "colab": {
      "name": "All Transect GLM Tweedie distribution model.ipynb",
      "provenance": [],
      "authorship_tag": "ABX9TyOxzFKh7Ouq8nrAwYK2XsEm",
      "include_colab_link": true
    },
    "kernelspec": {
      "name": "python3",
      "display_name": "Python 3"
    }
  },
  "cells": [
    {
      "cell_type": "markdown",
      "metadata": {
        "id": "view-in-github",
        "colab_type": "text"
      },
      "source": [
        "<a href=\"https://colab.research.google.com/github/cyruskavwele12/cyrus-Github/blob/master/All_Transect_GLM_Tweedie_distribution_model.ipynb\" target=\"_parent\"><img src=\"https://colab.research.google.com/assets/colab-badge.svg\" alt=\"Open In Colab\"/></a>"
      ]
    },
    {
      "cell_type": "code",
      "metadata": {
        "id": "kHqHMBnFyr29",
        "colab_type": "code",
        "colab": {
          "base_uri": "https://localhost:8080/",
          "height": 131
        },
        "outputId": "100591de-85bb-4000-95ec-afdcfeec7be4"
      },
      "source": [
        "test_import <-system('python3 -c \"import google.colab\"', intern=TRUE)\n",
        "import_status <- attr(test_import,'status')\n",
        "datadir<-'../data/'\n",
        "if (is.null(import_status)) { \n",
        "    datadir<-'camera-trap-analysis/data/'\n",
        "    if (!dir.exists('camera-trap-analysis')){\n",
        "        install.packages(\"getPass\")\n",
        "\n",
        "        # no error received so we are running in colab\n",
        "        username <- readline(prompt=\"enter GitHub username: \")\n",
        "        password <- getPass(\"enter password: \")\n",
        "        Sys.setenv(git_user =  paste(username, password, sep=\":\"))\n",
        "        system('git clone https://$git_user@github.com/ctorney/camera-trap-analysis.git')\n",
        "        \n",
        "    }\n",
        "}"
      ],
      "execution_count": 18,
      "outputs": [
        {
          "output_type": "error",
          "ename": "SyntaxError",
          "evalue": "ignored",
          "traceback": [
            "\u001b[0;36m  File \u001b[0;32m\"<ipython-input-18-b202a5ea6bc5>\"\u001b[0;36m, line \u001b[0;32m4\u001b[0m\n\u001b[0;31m    if (is.null(import_status)) {\u001b[0m\n\u001b[0m         ^\u001b[0m\n\u001b[0;31mSyntaxError\u001b[0m\u001b[0;31m:\u001b[0m invalid syntax\n"
          ]
        }
      ]
    },
    {
      "cell_type": "code",
      "metadata": {
        "id": "7VfDgTuP3UH6",
        "colab_type": "code",
        "colab": {
          "base_uri": "https://localhost:8080/",
          "height": 235
        },
        "outputId": "7a205661-0921-419f-b2cb-37873b5a200b"
      },
      "source": [
        "#Install packages and libriaries \n",
        "# install.packages(\"CARS\")\n",
        "install.packages(\"GGally\")\n",
        "install.packages(\"tweedie\")\n",
        "install.packages(\"statmod\")\n",
        "install.packages(\"lme4\")\n",
        "install.packages(\"ggplot2\")\n",
        "install.packages(\"dplyr\")\n",
        "install.packages(\"tidyverse\")\n",
        "install.packages(\"lubridate\")\n",
        "library(readr)  # for read_csv\n",
        "library(knitr)\n",
        "library(httr)\n",
        "library(dplyr)\n",
        "library(tidyverse)\n",
        "library(lubridate)\n",
        "# library(CARS)\n",
        "library(GGally) # same as pairs but better easthetics\n",
        "library(ggplot2)\n",
        "library(tweedie)\n",
        "library(statmod)\n",
        "install.packages(\"gridExtra\")\n",
        "install.packages(\"effects\")\n",
        "install.packages(\"lattice\")\n",
        "library(gridExtra)\n",
        "library(effects)\n",
        "library(lattice)\n"
      ],
      "execution_count": 26,
      "outputs": [
        {
          "output_type": "error",
          "ename": "NameError",
          "evalue": "ignored",
          "traceback": [
            "\u001b[0;31m---------------------------------------------------------------------------\u001b[0m",
            "\u001b[0;31mNameError\u001b[0m                                 Traceback (most recent call last)",
            "\u001b[0;32m<ipython-input-26-095e845eb465>\u001b[0m in \u001b[0;36m<module>\u001b[0;34m()\u001b[0m\n\u001b[1;32m      1\u001b[0m \u001b[0;31m#Install packages and libriaries\u001b[0m\u001b[0;34m\u001b[0m\u001b[0;34m\u001b[0m\u001b[0;34m\u001b[0m\u001b[0m\n\u001b[1;32m      2\u001b[0m \u001b[0;31m# install.packages(\"CARS\")\u001b[0m\u001b[0;34m\u001b[0m\u001b[0;34m\u001b[0m\u001b[0;34m\u001b[0m\u001b[0m\n\u001b[0;32m----> 3\u001b[0;31m \u001b[0minstall\u001b[0m\u001b[0;34m.\u001b[0m\u001b[0mpackages\u001b[0m\u001b[0;34m(\u001b[0m\u001b[0;34m\"GGally\"\u001b[0m\u001b[0;34m)\u001b[0m\u001b[0;34m\u001b[0m\u001b[0;34m\u001b[0m\u001b[0m\n\u001b[0m\u001b[1;32m      4\u001b[0m \u001b[0minstall\u001b[0m\u001b[0;34m.\u001b[0m\u001b[0mpackages\u001b[0m\u001b[0;34m(\u001b[0m\u001b[0;34m\"tweedie\"\u001b[0m\u001b[0;34m)\u001b[0m\u001b[0;34m\u001b[0m\u001b[0;34m\u001b[0m\u001b[0m\n\u001b[1;32m      5\u001b[0m \u001b[0minstall\u001b[0m\u001b[0;34m.\u001b[0m\u001b[0mpackages\u001b[0m\u001b[0;34m(\u001b[0m\u001b[0;34m\"statmod\"\u001b[0m\u001b[0;34m)\u001b[0m\u001b[0;34m\u001b[0m\u001b[0;34m\u001b[0m\u001b[0m\n",
            "\u001b[0;31mNameError\u001b[0m: name 'install' is not defined"
          ]
        }
      ]
    },
    {
      "cell_type": "code",
      "metadata": {
        "id": "zObL1WvyzGmF",
        "colab_type": "code",
        "colab": {
          "base_uri": "https://localhost:8080/",
          "height": 217
        },
        "outputId": "22f37495-19ee-4373-f63f-235b49fb3f6f"
      },
      "source": [
        "# Load the dataframe from local disc or GitHub website (already uploaded)\n",
        "setwd(\"D:/Projects/PhD_Work/PhD_Docs_Glasgow/PhD_Data/Camera_Trap_Manual_Data/Cleaned_Manupilated_Data/All_transects\")\n",
        "kuka_density_oneday<-read.csv(\"kuka_density_oneday.csv\",header=TRUE)\n",
        "mbalageti_density_oneday<-read.csv(\"mbalageti_density_oneday.csv\",header=TRUE)"
      ],
      "execution_count": 4,
      "outputs": [
        {
          "output_type": "error",
          "ename": "NameError",
          "evalue": "ignored",
          "traceback": [
            "\u001b[0;31m---------------------------------------------------------------------------\u001b[0m",
            "\u001b[0;31mNameError\u001b[0m                                 Traceback (most recent call last)",
            "\u001b[0;32m<ipython-input-4-06e8d22a9768>\u001b[0m in \u001b[0;36m<module>\u001b[0;34m()\u001b[0m\n\u001b[1;32m      1\u001b[0m \u001b[0;31m# Load the dataframe from local disc or GitHub website (already uploaded)\u001b[0m\u001b[0;34m\u001b[0m\u001b[0;34m\u001b[0m\u001b[0;34m\u001b[0m\u001b[0m\n\u001b[0;32m----> 2\u001b[0;31m \u001b[0msetwd\u001b[0m\u001b[0;34m(\u001b[0m\u001b[0;34m\"D:/Projects/PhD_Work/PhD_Docs_Glasgow/PhD_Data/Camera_Trap_Manual_Data/Cleaned_Manupilated_Data/All_transects\"\u001b[0m\u001b[0;34m)\u001b[0m\u001b[0;34m\u001b[0m\u001b[0;34m\u001b[0m\u001b[0m\n\u001b[0m\u001b[1;32m      3\u001b[0m \u001b[0mkuka_density_oneday\u001b[0m\u001b[0;34m<\u001b[0m\u001b[0;34m-\u001b[0m\u001b[0mread\u001b[0m\u001b[0;34m.\u001b[0m\u001b[0mcsv\u001b[0m\u001b[0;34m(\u001b[0m\u001b[0;34m\"kuka_density_oneday.csv\"\u001b[0m\u001b[0;34m,\u001b[0m\u001b[0mheader\u001b[0m\u001b[0;34m=\u001b[0m\u001b[0mTRUE\u001b[0m\u001b[0;34m)\u001b[0m\u001b[0;34m\u001b[0m\u001b[0;34m\u001b[0m\u001b[0m\n\u001b[1;32m      4\u001b[0m \u001b[0mmbalageti_density_oneday\u001b[0m\u001b[0;34m<\u001b[0m\u001b[0;34m-\u001b[0m\u001b[0mread\u001b[0m\u001b[0;34m.\u001b[0m\u001b[0mcsv\u001b[0m\u001b[0;34m(\u001b[0m\u001b[0;34m\"mbalageti_density_oneday.csv\"\u001b[0m\u001b[0;34m,\u001b[0m\u001b[0mheader\u001b[0m\u001b[0;34m=\u001b[0m\u001b[0mTRUE\u001b[0m\u001b[0;34m)\u001b[0m\u001b[0;34m\u001b[0m\u001b[0;34m\u001b[0m\u001b[0m\n",
            "\u001b[0;31mNameError\u001b[0m: name 'setwd' is not defined"
          ]
        }
      ]
    },
    {
      "cell_type": "code",
      "metadata": {
        "id": "b4llVlQSzGyp",
        "colab_type": "code",
        "colab": {
          "base_uri": "https://localhost:8080/",
          "height": 183
        },
        "outputId": "16fafcc3-53bf-4806-90d4-391d00a673f6"
      },
      "source": [
        "# check dimesnions of the two dataframes \n",
        "dim(mbalageti_density_oneday);dim(kuka_density_oneday)"
      ],
      "execution_count": 21,
      "outputs": [
        {
          "output_type": "error",
          "ename": "NameError",
          "evalue": "ignored",
          "traceback": [
            "\u001b[0;31m---------------------------------------------------------------------------\u001b[0m",
            "\u001b[0;31mNameError\u001b[0m                                 Traceback (most recent call last)",
            "\u001b[0;32m<ipython-input-21-13fabb1fe66e>\u001b[0m in \u001b[0;36m<module>\u001b[0;34m()\u001b[0m\n\u001b[1;32m      1\u001b[0m \u001b[0;31m# check dimesnions of the two dataframes\u001b[0m\u001b[0;34m\u001b[0m\u001b[0;34m\u001b[0m\u001b[0;34m\u001b[0m\u001b[0m\n\u001b[0;32m----> 2\u001b[0;31m \u001b[0mdim\u001b[0m\u001b[0;34m(\u001b[0m\u001b[0mmbalageti_density_oneday\u001b[0m\u001b[0;34m)\u001b[0m\u001b[0;34m;\u001b[0m\u001b[0mdim\u001b[0m\u001b[0;34m(\u001b[0m\u001b[0mkuka_density_oneday\u001b[0m\u001b[0;34m)\u001b[0m\u001b[0;34m\u001b[0m\u001b[0;34m\u001b[0m\u001b[0m\n\u001b[0m",
            "\u001b[0;31mNameError\u001b[0m: name 'dim' is not defined"
          ]
        }
      ]
    },
    {
      "cell_type": "code",
      "metadata": {
        "id": "lFD1I175zY22",
        "colab_type": "code",
        "colab": {}
      },
      "source": [
        "head(mbalageti_density_oneday,1)\n",
        "head(kuka_density_oneday,1)"
      ],
      "execution_count": null,
      "outputs": []
    },
    {
      "cell_type": "code",
      "metadata": {
        "id": "2OhG8BaDzcYf",
        "colab_type": "code",
        "colab": {}
      },
      "source": [
        "# Take note of the different names for the camera number column\n",
        "# change the camera no name for mabalageti dataset \n",
        "colnames(mbalageti_density_oneday)[colnames(mbalageti_density_oneday) == \"camera_no\"] <- \"camera.no\""
      ],
      "execution_count": null,
      "outputs": []
    },
    {
      "cell_type": "code",
      "metadata": {
        "id": "v1uk_z0czG3I",
        "colab_type": "code",
        "colab": {}
      },
      "source": [
        "# combine the two dataframes"
      ],
      "execution_count": null,
      "outputs": []
    },
    {
      "cell_type": "code",
      "metadata": {
        "id": "J6l-AO5fzpgq",
        "colab_type": "code",
        "colab": {}
      },
      "source": [
        "#rename the object as transects_all_density (Mbalageti and Kuka trnasect dataframes combined)\n",
        "transects_all_density<-rbind(mbalageti_density_oneday,kuka_density_oneday) "
      ],
      "execution_count": null,
      "outputs": []
    },
    {
      "cell_type": "code",
      "metadata": {
        "id": "9S7l3nF5zpnQ",
        "colab_type": "code",
        "colab": {}
      },
      "source": [
        "# check df dim\n",
        "dim(transects_all_density)"
      ],
      "execution_count": null,
      "outputs": []
    },
    {
      "cell_type": "code",
      "metadata": {
        "id": "w0rfTYANzpqz",
        "colab_type": "code",
        "colab": {}
      },
      "source": [
        "# dummify the regime factor to indicator variables \n",
        "is.factor(transects_all_density$regime) #check whether is a factor\n",
        "contrasts(factor(transects_all_density$regime)) # show how the factor will be converted to indicator varible "
      ],
      "execution_count": null,
      "outputs": []
    },
    {
      "cell_type": "code",
      "metadata": {
        "id": "KqWCBksOzxGq",
        "colab_type": "code",
        "colab": {}
      },
      "source": [
        "# Examine any possible interaction between variables\n",
        "interaction.plot(x.factor = transects_all_density$dist_bound,    # variable to plot on x-axis\n",
        "                 trace.factor = transects_all_density$regime,   # variable to specify \"traces\"; here, regime\n",
        "                 col = c(\"blue4\", \"red4\"),\n",
        "                 trace.label = (\"Regime\"),\n",
        "                 main=\"One day interval\",\n",
        "                 xlab=(\"Distance to the Boundary (KM)\"),\n",
        "                 ylab= (\"Wildlife Density\"),\n",
        "                 type=\"l\",\n",
        "                 lwd=3,\n",
        "                 response = transects_all_density$wildlife_density)"
      ],
      "execution_count": null,
      "outputs": []
    },
    {
      "cell_type": "code",
      "metadata": {
        "id": "t7pi8od-zxKg",
        "colab_type": "code",
        "colab": {}
      },
      "source": [
        "# levene test for homogeneity with lawstat package\n",
        "install.packages(\"lawstat\")\n",
        "library(lawstat)\n",
        "\n",
        "levene.test(transects_all_density$wildlife_density, transects_all_density$dist_bound,\n",
        "           location= c(\"median\"), trim.alpha = 0.25)"
      ],
      "execution_count": null,
      "outputs": []
    },
    {
      "cell_type": "code",
      "metadata": {
        "id": "27mhykD0zxNf",
        "colab_type": "code",
        "colab": {}
      },
      "source": [
        "# check normality and hormogeneity of the depended variable\n",
        "p<- ggplot()\n",
        "p<- p + ylab(\"frequency\")\n",
        "p<- p + xlab(\"wildlife_density\")\n",
        "p<- p + theme(text=element_text(size=15))\n",
        "p<- p + theme(panel.background=element_blank())\n",
        "p<- p + theme(panel.border=element_rect(fill = NA,colour=\"black\",size=1))\n",
        "p<- p + theme(strip.background = element_rect(fill = \"white\", colour =\"white\",size= 1))\n",
        "p<- p + theme(text = element_text(size = 15))\n",
        "p<- p + theme(legend.position = \"none\")\n",
        "p<- p + geom_freqpoly(data = transects_all_density, aes(wildlife_density), bins= 20)\n",
        "plot(p)"
      ],
      "execution_count": null,
      "outputs": []
    },
    {
      "cell_type": "code",
      "metadata": {
        "id": "BnVjvLvgzxQe",
        "colab_type": "code",
        "colab": {}
      },
      "source": [
        "# percentege of zeros in the response variable\n",
        "sum(transects_all_density$wildlife_density == 0)*100/nrow(transects_all_density)"
      ],
      "execution_count": null,
      "outputs": []
    },
    {
      "cell_type": "code",
      "metadata": {
        "id": "t1j7eJlS0cVD",
        "colab_type": "code",
        "colab": {}
      },
      "source": [
        "# relationships among the response and explanatory variables \n",
        "xyplot(wildlife_density ~ dist_bound | regime, \n",
        "       group = regime, data = transects_all_density,\n",
        "       type = c(\"p\", \"smooth\"))#,\n",
        "#        scales = \"free\")"
      ],
      "execution_count": null,
      "outputs": []
    },
    {
      "cell_type": "code",
      "metadata": {
        "id": "Eq-p6Slr0cYs",
        "colab_type": "code",
        "colab": {}
      },
      "source": [
        "# Violin plot using panel = panel.violin\n",
        "bwplot(wildlife_density ~ regime,  data = transects_all_density,\n",
        "       panel = panel.violin,\n",
        "       xlab = \"Regimes\", ylab = \"Wildlife Density\",col=\"grey\")"
      ],
      "execution_count": null,
      "outputs": []
    },
    {
      "cell_type": "code",
      "metadata": {
        "id": "9pkJgTOF0lWl",
        "colab_type": "code",
        "colab": {}
      },
      "source": [
        "#####  FIT MODELS"
      ],
      "execution_count": null,
      "outputs": []
    },
    {
      "cell_type": "code",
      "metadata": {
        "id": "1R5ZVxtX0laI",
        "colab_type": "code",
        "colab": {}
      },
      "source": [
        "##### Model 1 with combined taset for mbalageti and Kuka transect\n",
        "# Null model\n",
        "tweedie_m1out<-tweedie.profile(wildlife_density~1,do.plot =TRUE, data=transects_all_density,p.vec=seq(1.4, 1.9, by=0.1))\n",
        "profile1.est <- tweedie_m1out$p.max\n",
        "\n",
        "model1<-glm(wildlife_density~1,family=tweedie(var.power=profile1.est, link.power=0),data=transects_all_density)\n",
        "summary(model1)"
      ],
      "execution_count": null,
      "outputs": []
    },
    {
      "cell_type": "code",
      "metadata": {
        "id": "6eJSkzBw0let",
        "colab_type": "code",
        "colab": {}
      },
      "source": [
        "##### Validation of model 1"
      ],
      "execution_count": null,
      "outputs": []
    },
    {
      "cell_type": "code",
      "metadata": {
        "id": "X7gDTMaO0lhj",
        "colab_type": "code",
        "colab": {}
      },
      "source": [
        "# plot effects for distance variable\n",
        "par(mfrow=c(2,2))\n",
        "dres<-resid(model1) #default residuals\n",
        "pres<-resid(model1, type=\"pearson\")\n",
        "qres1<-qresid(model1) # quantile residuals, replipcation 1\n",
        "qres2<-qresid(model1) # quantile residuals, replication 2\n",
        "qqnorm(dres, main=\"Deviance residuals\",las=1);qqline(dres)\n",
        "qqnorm(pres,main=\"Pearson residulas\",las=1);qqline(pres)\n",
        "qqnorm(qres1, main=\"Quantile residuals (set 1)\",las=1);qqline(qres1) # Ideal for model with tweedie distributions\n",
        "qqnorm(qres2, main=\"Quantile residuals (set 2)\",las=1);qqline(qres2) # Ideal for model with tweedie distributions\n",
        "\n",
        "par(mfrow=c(3,2))\n",
        "plot(qres1~fitted(model1),las=1, xlab=\"Fitted values\",ylab=\"Quantile residuals\")\n",
        "abline(h=0,lty=2)\n",
        "plot(cooks.distance(model1),type=\"h\",las=1, ylab=\"Cook's distance\",xlab=\"Observations\")\n",
        "# plot(qresid(model1)~transects_all_density$dist_bound, las=1,\n",
        "#             xlab=\"Distance to the boundary\",ylab=\"Quantile residuals\")\n",
        "# abline(h=0,lty=2)\n",
        "# plot(qresid(model2)~factor(transects_all_density$regime),las=1,\n",
        "#             xlab=\"Regime\",ylab=\"Quantile residuals\")\n",
        "abline(h=0,lty=2)\n",
        "AICtweedie(model1, dispersion=NULL, k= 2,verbose=TRUE) "
      ],
      "execution_count": null,
      "outputs": []
    },
    {
      "cell_type": "code",
      "metadata": {
        "id": "JxEl80AQ0ldg",
        "colab_type": "code",
        "colab": {}
      },
      "source": [
        "#### Model 2 with combined taset for mbalageti and Kuka Transect"
      ],
      "execution_count": null,
      "outputs": []
    },
    {
      "cell_type": "code",
      "metadata": {
        "id": "Lbe3uCrJ0ccd",
        "colab_type": "code",
        "colab": {}
      },
      "source": [
        "tweedie_m2out<-tweedie.profile(wildlife_density~dist_bound,do.plot =TRUE, data=transects_all_density,p.vec=seq(1.4, 1.9, by=0.1))\n",
        "profile2.est <- tweedie_m2out$p.max\n",
        "\n",
        "model2<-glm(wildlife_density~dist_bound,family=tweedie(var.power=profile2.est, link.power=0),data=transects_all_density)\n",
        "summary(model2)"
      ],
      "execution_count": null,
      "outputs": []
    },
    {
      "cell_type": "code",
      "metadata": {
        "id": "G01fRIFA1FCV",
        "colab_type": "code",
        "colab": {}
      },
      "source": [
        "##### Validation of model 2"
      ],
      "execution_count": null,
      "outputs": []
    },
    {
      "cell_type": "code",
      "metadata": {
        "id": "We3KgcSt1FGA",
        "colab_type": "code",
        "colab": {}
      },
      "source": [
        "# plot effects for distance variable\n",
        "par(mfrow=c(2,2))\n",
        "dres<-resid(model2) #default residuals\n",
        "pres<-resid(model2, type=\"pearson\")\n",
        "qres1<-qresid(model2) # quantile residuals, replipcation 1\n",
        "qres2<-qresid(model2) # quantile residuals, replication 2\n",
        "qqnorm(dres, main=\"Deviance residuals\",las=1);qqline(dres)\n",
        "qqnorm(pres,main=\"Pearson residulas\",las=1);qqline(pres)\n",
        "qqnorm(qres1, main=\"Quantile residuals (set 1)\",las=1);qqline(qres1) # Ideal for glm model with tweedie distributions\n",
        "qqnorm(qres2, main=\"Quantile residuals (set 2)\",las=1);qqline(qres2) # Ideal for glm model with tweedie distributions\n",
        "\n",
        "par(mfrow=c(3,2))\n",
        "plot(qres1~fitted(model2),las=1, xlab=\"Fitted values\",ylab=\"Quantile residuals\")\n",
        "abline(h=0,lty=2)\n",
        "plot(cooks.distance(model2),type=\"h\",las=1, ylab=\"Cook's distance\",xlab=\"Observations\",ylim=c(0.0,0.15))\n",
        "plot(qresid(model2)~transects_all_density$dist_bound, las=1,\n",
        "            xlab=\"Distance to the boundary\",ylab=\"Quantile residuals\")\n",
        "abline(h=0,lty=2)\n",
        "# plot(qresid(model2)~factor(transects_all_density$regime),las=1,\n",
        "#             xlab=\"Regime\",ylab=\"Quantile residuals\")\n",
        "abline(h=0,lty=2)\n",
        "AICtweedie(model2, dispersion=NULL, k= 2,verbose=TRUE) "
      ],
      "execution_count": null,
      "outputs": []
    },
    {
      "cell_type": "code",
      "metadata": {
        "id": "bib1M7cG1FJF",
        "colab_type": "code",
        "colab": {}
      },
      "source": [
        "# plot effects for distance variable\n",
        "plot(effect(\"dist_bound\", model2), main=\"Distance to the boundary\")"
      ],
      "execution_count": null,
      "outputs": []
    },
    {
      "cell_type": "code",
      "metadata": {
        "id": "sU6A6sjp1FL4",
        "colab_type": "code",
        "colab": {}
      },
      "source": [
        "# Check for diapersion\n",
        "disp<-model2$deviance/ model2$df.residual\n",
        "print(disp)"
      ],
      "execution_count": null,
      "outputs": []
    },
    {
      "cell_type": "code",
      "metadata": {
        "id": "HVsNMstu1P2w",
        "colab_type": "code",
        "colab": {}
      },
      "source": [
        "#### Model 3 with combined taset for mbalageti and Kuka Transect"
      ],
      "execution_count": null,
      "outputs": []
    },
    {
      "cell_type": "code",
      "metadata": {
        "id": "nMJyoUN-1P-H",
        "colab_type": "code",
        "colab": {}
      },
      "source": [
        "tweedie_m3out<-tweedie.profile(wildlife_density~dist_bound + regime,do.plot =TRUE,\n",
        "                               data=transects_all_density,p.vec=seq(1.4, 1.9, by=0.1))\n",
        "profile3.est <- tweedie_m3out$p.max\n",
        "\n",
        "model3<-glm(wildlife_density~dist_bound + regime ,family=tweedie(var.power=profile3.est, link.power=0),\n",
        "            data=transects_all_density)\n",
        "summary(model3)"
      ],
      "execution_count": null,
      "outputs": []
    },
    {
      "cell_type": "code",
      "metadata": {
        "id": "l1EYwW9k1QB2",
        "colab_type": "code",
        "colab": {}
      },
      "source": [
        "##### Validation of model 3"
      ],
      "execution_count": null,
      "outputs": []
    },
    {
      "cell_type": "code",
      "metadata": {
        "id": "Ucxz6GmF1QI5",
        "colab_type": "code",
        "colab": {}
      },
      "source": [
        "# plot effects for distance variable\n",
        "par(mfrow=c(2,2))\n",
        "dres<-resid(model3) #default residuals\n",
        "pres<-resid(model3, type=\"pearson\")\n",
        "qres1<-qresid(model3) # quantile residuals, replipcation 1\n",
        "qres2<-qresid(model3) # quantile residuals, replication 2\n",
        "qqnorm(dres, main=\"Deviance residuals\",las=1);qqline(dres)\n",
        "qqnorm(pres,main=\"Pearson residulas\",las=1);qqline(pres)\n",
        "qqnorm(qres1, main=\"Quantile residuals (set 1)\",las=1);qqline(qres1) # Ideal for model with tweedie distributions\n",
        "qqnorm(qres2, main=\"Quantile residuals (set 2)\",las=1);qqline(qres2) # Ideal for model with tweedie distributions\n",
        "\n",
        "par(mfrow=c(3,2))\n",
        "plot(qres1~fitted(model3),las=1, xlab=\"Fitted values\",ylab=\"Quantile residuals\")\n",
        "abline(h=0,lty=2)\n",
        "plot(cooks.distance(model3),type=\"h\",las=1, ylab=\"Cook's distance\",xlab=\"Observations\")\n",
        "plot(qresid(model3)~transects_all_density$dist_bound, las=1,\n",
        "            xlab=\"Distance to the boundary\",ylab=\"Quantile residuals\")\n",
        "abline(h=0,lty=2)\n",
        "plot(qresid(model3)~factor(transects_all_density$regime),las=1,\n",
        "            xlab=\"Regime\",ylab=\"Quantile residuals\")\n",
        "abline(h=0,lty=2)\n",
        "AICtweedie(model3, dispersion=NULL, k= 2,verbose=TRUE)    "
      ],
      "execution_count": null,
      "outputs": []
    },
    {
      "cell_type": "code",
      "metadata": {
        "id": "v8tmMoBH1QNJ",
        "colab_type": "code",
        "colab": {}
      },
      "source": [
        "# plot effects for distance variable\n",
        "plot(effect(\"dist_bound\", model3), main=\"Distance to the boundary\")"
      ],
      "execution_count": null,
      "outputs": []
    },
    {
      "cell_type": "code",
      "metadata": {
        "id": "uFOqj1bu1QRO",
        "colab_type": "code",
        "colab": {}
      },
      "source": [
        "# Check for diapersion\n",
        "disp<-model3$deviance/ model3$df.residual\n",
        "print(disp)"
      ],
      "execution_count": null,
      "outputs": []
    },
    {
      "cell_type": "code",
      "metadata": {
        "id": "lNNddAoV1QGK",
        "colab_type": "code",
        "colab": {}
      },
      "source": [
        "#### Model 4 with combined taset for mbalageti and Kuka Transect"
      ],
      "execution_count": null,
      "outputs": []
    },
    {
      "cell_type": "code",
      "metadata": {
        "id": "P_v1thHN1lgl",
        "colab_type": "code",
        "colab": {}
      },
      "source": [
        "tweedie_m4out<-tweedie.profile(wildlife_density~dist_bound + regime +(dist_bound*regime),do.plot =TRUE,\n",
        "                               data=transects_all_density,p.vec=seq(1.4, 1.9, by=0.1))\n",
        "profile4.est <- tweedie_m4out$p.max\n",
        "\n",
        "model4<-glm(wildlife_density~dist_bound + regime +(dist_bound*regime),family=tweedie(var.power=profile4.est, link.power=0),\n",
        "            data=transects_all_density)\n",
        "summary(model4)"
      ],
      "execution_count": null,
      "outputs": []
    },
    {
      "cell_type": "code",
      "metadata": {
        "id": "aw4M6F1f1lk9",
        "colab_type": "code",
        "colab": {}
      },
      "source": [
        "##### Validation of model 4"
      ],
      "execution_count": null,
      "outputs": []
    },
    {
      "cell_type": "code",
      "metadata": {
        "id": "OjzNxuw01ltH",
        "colab_type": "code",
        "colab": {}
      },
      "source": [
        "# plot effects for distance variable\n",
        "par(mfrow=c(2,2))\n",
        "dres<-resid(model4) #default residuals\n",
        "pres<-resid(model4, type=\"pearson\")\n",
        "qres1<-qresid(model4) # quantile residuals, replipcation 1\n",
        "qres2<-qresid(model4) # quantile residuals, replication 2\n",
        "qqnorm(dres, main=\"Deviance residuals\",las=1);qqline(dres)\n",
        "qqnorm(pres,main=\"Pearson residulas\",las=1);qqline(pres)\n",
        "qqnorm(qres1, main=\"Quantile residuals (set 1)\",las=1);qqline(qres1) # Ideal for model with tweedie distributions\n",
        "qqnorm(qres2, main=\"Quantile residuals (set 2)\",las=1);qqline(qres2) # Ideal for model with tweedie distributions\n",
        "\n",
        "par(mfrow=c(3,2))\n",
        "plot(qres1~fitted(model4),las=1, xlab=\"Fitted values\",ylab=\"Quantile residuals\")\n",
        "abline(h=0,lty=2)\n",
        "plot(cooks.distance(model4),type=\"h\",las=1, ylab=\"Cook's distance\",xlab=\"Observations\",ylim=c(0.00,0.07))\n",
        "plot(qresid(model4)~transects_all_density$dist_bound, las=1,\n",
        "            xlab=\"Distance to the boundary\",ylab=\"Quantile residuals\")\n",
        "abline(h=0,lty=2)\n",
        "plot(qresid(model4)~factor(transects_all_density$regime),las=1,\n",
        "            xlab=\"Regime\",ylab=\"Quantile residuals\")\n",
        "abline(h=0,lty=2)\n",
        "AICtweedie(model4, dispersion=NULL, k= 2,verbose=TRUE)  "
      ],
      "execution_count": null,
      "outputs": []
    },
    {
      "cell_type": "code",
      "metadata": {
        "id": "p7mHiaiY191X",
        "colab_type": "code",
        "colab": {}
      },
      "source": [
        "# plot effects for distance variable\n",
        "plot(effect(\"dist_bound*regime\", model4), main=\"Distance to the boundary * regime effect plot\")"
      ],
      "execution_count": null,
      "outputs": []
    },
    {
      "cell_type": "code",
      "metadata": {
        "id": "1LJytiKx1949",
        "colab_type": "code",
        "colab": {}
      },
      "source": [
        "# Check for diapersion\n",
        "disp<-model4$deviance/ model4$df.residual\n",
        "print(disp)"
      ],
      "execution_count": null,
      "outputs": []
    }
  ]
}